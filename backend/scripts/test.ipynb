{
 "cells": [
  {
   "cell_type": "code",
   "execution_count": 2,
   "metadata": {},
   "outputs": [],
   "source": [
    "import base64\n",
    "import os\n",
    "\n",
    "from dotenv import load_dotenv\n",
    "\n",
    "from pydantic import BaseModel\n",
    "from openai import OpenAI\n",
    "\n",
    "load_dotenv()\n",
    "\n",
    "openai_key = os.getenv('OPENAI_API_KEY')\n",
    "openai_client = OpenAI()\n",
    "\n",
    "class RequestBody(BaseModel):\n",
    "    image: str\n",
    "\n",
    "class MenuItemScored(BaseModel):\n",
    "    name: str\n",
    "    score: int\n",
    "    red_flags: list[str]\n",
    "\n",
    "class ResponseBody(BaseModel):\n",
    "    item_list: list[MenuItemScored]\n",
    "\n",
    "class MenuItem(BaseModel):\n",
    "    name: str\n",
    "    ingredients: list[str]\n",
    "\n",
    "class Menu(BaseModel):\n",
    "    choices: list[MenuItem]\n"
   ]
  },
  {
   "cell_type": "code",
   "execution_count": 4,
   "metadata": {},
   "outputs": [],
   "source": [
    "def calculate_score(request: RequestBody):    \n",
    "    completion = openai_client.chat.completions.create(\n",
    "        model=\"gpt-4o\",\n",
    "        max_tokens=4096,\n",
    "        temperature=0.0,\n",
    "        messages=[\n",
    "            {\n",
    "                \"role\": \"system\",\n",
    "                \"content\": f\"\"\"\n",
    "                You are a culinary expert designed to extract food items and their ingredients from a menu.\n",
    "                Please identify every menu item the image and provide a list of every ingredient listed on the menu for that item.\n",
    "                If the ingredients are not listed, make an educated guess about what the ingredients are. Simplify the ingredients to raw materials.\n",
    "                You must return a correctly formatted JSON object with the menu item name and the list of ingredients in the image and follows the schema below:\n",
    "\n",
    "                JSON Schema:\n",
    "                {Menu.model_json_schema()}\"\"\",\n",
    "            },\n",
    "            {\n",
    "                \"role\": \"user\",\n",
    "                \"content\": [\n",
    "                    {\n",
    "                        \"type\": \"text\",\n",
    "                        \"text\": \"\"\"Extract the products from the image,\n",
    "                        and describe them in a query in JSON format\"\"\",\n",
    "                    },\n",
    "                    {\n",
    "                        \"type\": \"image_url\", \"image_url\": {\n",
    "                        \"url\": f\"data:image/jpeg;base64,{request.image}\"}},\n",
    "\n",
    "                ],\n",
    "            },\n",
    "            {\n",
    "                \"role\": \"assistant\",\n",
    "                \"content\": \"```json\",\n",
    "            },\n",
    "        ],\n",
    "    )\n",
    "    print(completion)\n",
    "\n",
    "    return completion\n"
   ]
  },
  {
   "cell_type": "code",
   "execution_count": 25,
   "metadata": {},
   "outputs": [
    {
     "name": "stdout",
     "output_type": "stream",
     "text": [
      "ChatCompletion(id='chatcmpl-A7fg3GbWr0KyhLlhhtGDTbVEjtANn', choices=[Choice(finish_reason='stop', index=0, logprobs=None, message=ChatCompletionMessage(content='{\\n  \"choices\": [\\n    {\\n      \"name\": \"Whipped Feta\",\\n      \"ingredients\": [\\n        \"Sweet and Hot Peppers\",\\n        \"Seeded Crackers\"\\n      ]\\n    },\\n    {\\n      \"name\": \"Za’atar Bread\",\\n      \"ingredients\": [\\n        \"Pistachio Muhammara\"\\n      ]\\n    },\\n    {\\n      \"name\": \"Tahini Caesar\",\\n      \"ingredients\": [\\n        \"Grilled Corn\",\\n        \"Cucumber\",\\n        \"Crispy Basturma\",\\n        \"Boquerones\",\\n        \"Cornbread Croutons\"\\n      ]\\n    },\\n    {\\n      \"name\": \"Topik\",\\n      \"ingredients\": [\\n        \"Stuffed Potato Hummus\",\\n        \"Pine Nuts\",\\n        \"Currants\",\\n        \"Tahini\",\\n        \"Radish\"\\n      ]\\n    },\\n    {\\n      \"name\": \"Gigante Beans\",\\n      \"ingredients\": [\\n        \"Tomato\",\\n        \"Cucumber\",\\n        \"Turkish Green Olives\",\\n        \"Orange-Coriander Vinaigrette\"\\n      ]\\n    },\\n    {\\n      \"name\": \"Dark Leafy Greens\",\\n      \"ingredients\": [\\n        \"Tomato Sesame Jam\"\\n      ]\\n    },\\n    {\\n      \"name\": \"Flattened Potatoes\",\\n      \"ingredients\": [\\n        \"Whipped Manouri Cheese\",\\n        \"Dried Olives\",\\n        \"Capers\",\\n        \"Garlic Chips\"\\n      ]\\n    },\\n    {\\n      \"name\": \"Red Pepper Dumplings\",\\n      \"ingredients\": [\\n        \"Tomato Brown Butter\",\\n        \"Labne\",\\n        \"Crispy Shallot\",\\n        \"Nigella\"\\n      ]\\n    },\\n    {\\n      \"name\": \"Fatteh\",\\n      \"ingredients\": [\\n        \"Caramelized Onion\",\\n        \"Cauliflower\",\\n        \"Crispy Mushrooms\",\\n        \"Pine Nuts\",\\n        \"Yogurt\"\\n      ]\\n    },\\n    {\\n      \"name\": \"Feta Kataifi\",\\n      \"ingredients\": [\\n        \"Sweet Corn\",\\n        \"Peach & Summer Squash Spoon Salad\",\\n        \"Honey\",\\n        \"Lime\"\\n      ]\\n    },\\n    {\\n      \"name\": \"Spinach Falafel\",\\n      \"ingredients\": [\\n        \"Tahini Sauce\",\\n        \"Beet Tzatziki\",\\n        \"Pickles\"\\n      ]\\n    },\\n    {\\n      \"name\": \"Mushroom Yaglama\",\\n      \"ingredients\": [\\n        \"Garlic Parsley Butter\",\\n        \"Burrata\",\\n        \"Wild Purple Basil\"\\n      ]\\n    },\\n    {\\n      \"name\": \"Potato & Red Lentil Kubba\",\\n      \"ingredients\": [\\n        \"Swiss Chard\",\\n        \"Pistachios\",\\n        \"Eggplant Jam\",\\n        \"Fried Carrots\"\\n      ]\\n    }\\n  ]\\n}\\n```', refusal=None, role='assistant', function_call=None, tool_calls=None))], created=1726391867, model='gpt-4o-2024-05-13', object='chat.completion', service_tier=None, system_fingerprint='fp_992d1ea92d', usage=CompletionUsage(completion_tokens=581, prompt_tokens=1023, total_tokens=1604, completion_tokens_details=CompletionTokensDetails(reasoning_tokens=0)))\n"
     ]
    }
   ],
   "source": [
    "with open (\"test_image_1.jpg\", \"rb\") as image:\n",
    "    image_data = base64.b64encode(image.read()).decode('utf-8')\n",
    "    completion_message = calculate_score(RequestBody(image=image_data))"
   ]
  },
  {
   "cell_type": "code",
   "execution_count": 26,
   "metadata": {},
   "outputs": [
    {
     "data": {
      "text/plain": [
       "ChatCompletion(id='chatcmpl-A7fg3GbWr0KyhLlhhtGDTbVEjtANn', choices=[Choice(finish_reason='stop', index=0, logprobs=None, message=ChatCompletionMessage(content='{\\n  \"choices\": [\\n    {\\n      \"name\": \"Whipped Feta\",\\n      \"ingredients\": [\\n        \"Sweet and Hot Peppers\",\\n        \"Seeded Crackers\"\\n      ]\\n    },\\n    {\\n      \"name\": \"Za’atar Bread\",\\n      \"ingredients\": [\\n        \"Pistachio Muhammara\"\\n      ]\\n    },\\n    {\\n      \"name\": \"Tahini Caesar\",\\n      \"ingredients\": [\\n        \"Grilled Corn\",\\n        \"Cucumber\",\\n        \"Crispy Basturma\",\\n        \"Boquerones\",\\n        \"Cornbread Croutons\"\\n      ]\\n    },\\n    {\\n      \"name\": \"Topik\",\\n      \"ingredients\": [\\n        \"Stuffed Potato Hummus\",\\n        \"Pine Nuts\",\\n        \"Currants\",\\n        \"Tahini\",\\n        \"Radish\"\\n      ]\\n    },\\n    {\\n      \"name\": \"Gigante Beans\",\\n      \"ingredients\": [\\n        \"Tomato\",\\n        \"Cucumber\",\\n        \"Turkish Green Olives\",\\n        \"Orange-Coriander Vinaigrette\"\\n      ]\\n    },\\n    {\\n      \"name\": \"Dark Leafy Greens\",\\n      \"ingredients\": [\\n        \"Tomato Sesame Jam\"\\n      ]\\n    },\\n    {\\n      \"name\": \"Flattened Potatoes\",\\n      \"ingredients\": [\\n        \"Whipped Manouri Cheese\",\\n        \"Dried Olives\",\\n        \"Capers\",\\n        \"Garlic Chips\"\\n      ]\\n    },\\n    {\\n      \"name\": \"Red Pepper Dumplings\",\\n      \"ingredients\": [\\n        \"Tomato Brown Butter\",\\n        \"Labne\",\\n        \"Crispy Shallot\",\\n        \"Nigella\"\\n      ]\\n    },\\n    {\\n      \"name\": \"Fatteh\",\\n      \"ingredients\": [\\n        \"Caramelized Onion\",\\n        \"Cauliflower\",\\n        \"Crispy Mushrooms\",\\n        \"Pine Nuts\",\\n        \"Yogurt\"\\n      ]\\n    },\\n    {\\n      \"name\": \"Feta Kataifi\",\\n      \"ingredients\": [\\n        \"Sweet Corn\",\\n        \"Peach & Summer Squash Spoon Salad\",\\n        \"Honey\",\\n        \"Lime\"\\n      ]\\n    },\\n    {\\n      \"name\": \"Spinach Falafel\",\\n      \"ingredients\": [\\n        \"Tahini Sauce\",\\n        \"Beet Tzatziki\",\\n        \"Pickles\"\\n      ]\\n    },\\n    {\\n      \"name\": \"Mushroom Yaglama\",\\n      \"ingredients\": [\\n        \"Garlic Parsley Butter\",\\n        \"Burrata\",\\n        \"Wild Purple Basil\"\\n      ]\\n    },\\n    {\\n      \"name\": \"Potato & Red Lentil Kubba\",\\n      \"ingredients\": [\\n        \"Swiss Chard\",\\n        \"Pistachios\",\\n        \"Eggplant Jam\",\\n        \"Fried Carrots\"\\n      ]\\n    }\\n  ]\\n}\\n```', refusal=None, role='assistant', function_call=None, tool_calls=None))], created=1726391867, model='gpt-4o-2024-05-13', object='chat.completion', service_tier=None, system_fingerprint='fp_992d1ea92d', usage=CompletionUsage(completion_tokens=581, prompt_tokens=1023, total_tokens=1604, completion_tokens_details=CompletionTokensDetails(reasoning_tokens=0)))"
      ]
     },
     "execution_count": 26,
     "metadata": {},
     "output_type": "execute_result"
    }
   ],
   "source": [
    "completion_message"
   ]
  },
  {
   "cell_type": "code",
   "execution_count": 27,
   "metadata": {},
   "outputs": [
    {
     "data": {
      "text/plain": [
       "Menu(choices=[MenuItem(name='Whipped Feta', ingredients=['Sweet and Hot Peppers', 'Seeded Crackers']), MenuItem(name='Za’atar Bread', ingredients=['Pistachio Muhammara']), MenuItem(name='Tahini Caesar', ingredients=['Grilled Corn', 'Cucumber', 'Crispy Basturma', 'Boquerones', 'Cornbread Croutons']), MenuItem(name='Topik', ingredients=['Stuffed Potato Hummus', 'Pine Nuts', 'Currants', 'Tahini', 'Radish']), MenuItem(name='Gigante Beans', ingredients=['Tomato', 'Cucumber', 'Turkish Green Olives', 'Orange-Coriander Vinaigrette']), MenuItem(name='Dark Leafy Greens', ingredients=['Tomato Sesame Jam']), MenuItem(name='Flattened Potatoes', ingredients=['Whipped Manouri Cheese', 'Dried Olives', 'Capers', 'Garlic Chips']), MenuItem(name='Red Pepper Dumplings', ingredients=['Tomato Brown Butter', 'Labne', 'Crispy Shallot', 'Nigella']), MenuItem(name='Fatteh', ingredients=['Caramelized Onion', 'Cauliflower', 'Crispy Mushrooms', 'Pine Nuts', 'Yogurt']), MenuItem(name='Feta Kataifi', ingredients=['Sweet Corn', 'Peach & Summer Squash Spoon Salad', 'Honey', 'Lime']), MenuItem(name='Spinach Falafel', ingredients=['Tahini Sauce', 'Beet Tzatziki', 'Pickles']), MenuItem(name='Mushroom Yaglama', ingredients=['Garlic Parsley Butter', 'Burrata', 'Wild Purple Basil']), MenuItem(name='Potato & Red Lentil Kubba', ingredients=['Swiss Chard', 'Pistachios', 'Eggplant Jam', 'Fried Carrots'])])"
      ]
     },
     "execution_count": 27,
     "metadata": {},
     "output_type": "execute_result"
    }
   ],
   "source": [
    "import json\n",
    "\n",
    "message_content = completion_message.choices[0].message.content\n",
    "cleaned_content = message_content.replace('```json', '').replace('```', '').strip()\n",
    "menu_dict = json.loads(cleaned_content)\n",
    "menu = Menu(**menu_dict)\n",
    "menu\n"
   ]
  },
  {
   "cell_type": "code",
   "execution_count": 20,
   "metadata": {},
   "outputs": [],
   "source": [
    "from langchain_core.messages import HumanMessage, SystemMessage\n",
    "from langchain_core.prompts import ChatPromptTemplate, MessagesPlaceholder\n",
    "from langchain_community.chat_message_histories import ChatMessageHistory\n",
    "from langchain_openai import ChatOpenAI\n",
    "\n",
    "class CarbonCost(BaseModel):\n",
    "    item_name: str\n",
    "    carbon_cost: float\n",
    "    red_flags: list[str]\n",
    "    score: int\n",
    "\n",
    "open_langchain = ChatOpenAI(model=\"gpt-4o\", temperature=0)\n",
    "\n",
    "def calculate_carbon_cost(ingredient: str):\n",
    "    system_prompt = f\"\"\"\n",
    "    You are a environmental expert designed to calculate the carbon cost of food items in pounds.\n",
    "    Please estimate the carbon emissions in pounds for one serving of the food item in the prompt below.\n",
    "    Also, if applicable, provide red flags that indicate that the production of the food item involves unsustainable practices such as human rights violations in third world countries, animal welfare concerns, etc. Keep each red flag to a few words.\n",
    "    Only give a red flag if it is particularly unsustainable and not just a general concern - there should be 1 food item with a red flag per 10 food items.\n",
    "    Finally, based on this information, provide a sustainability score for the food item on a scale of 1 to 10\n",
    "    Also return the name of the food item provided in the prompt back in the response as the item name.\n",
    "    \"\"\"\n",
    "\n",
    "    chat_history = ChatMessageHistory()\n",
    "    chat_history.add_message(SystemMessage(content=system_prompt))\n",
    "    chat_history.add_message(HumanMessage(content=ingredient))\n",
    "\n",
    "    prompt_template = ChatPromptTemplate.from_messages(\n",
    "        [MessagesPlaceholder(\"messages\"), SystemMessage(content=system_prompt)])\n",
    "    runnable = prompt_template | open_langchain.with_structured_output(\n",
    "        schema=CarbonCost, include_raw=True)\n",
    "    \n",
    "    carbon_cost = runnable.invoke({\"messages\": chat_history.messages})\n",
    "\n",
    "    return carbon_cost\n"
   ]
  },
  {
   "cell_type": "code",
   "execution_count": 29,
   "metadata": {},
   "outputs": [
    {
     "data": {
      "text/plain": [
       "CarbonCost(carbon_cost=3.5, explanation='Whipped feta is primarily made from feta cheese, which is a dairy product. Dairy production is known to have a significant carbon footprint due to the methane emissions from cows, the energy used in milking and processing, and the transportation of the final product. The carbon cost of dairy products like feta cheese is estimated to be around 3.5 pounds of CO2 per pound of cheese.', red_flags=['Animal welfare concerns related to dairy farming, including the treatment of cows.', 'High water usage in dairy farming, which can lead to water scarcity issues.', 'Potential use of antibiotics and hormones in dairy farming, which can have environmental and health impacts.', 'Human rights violations in some dairy-producing regions, including poor working conditions and low wages for farm workers.'], score=4)"
      ]
     },
     "execution_count": 29,
     "metadata": {},
     "output_type": "execute_result"
    }
   ],
   "source": [
    "cost = calculate_carbon_cost(menu.choices[0].name)\n",
    "cost['parsed']\n"
   ]
  },
  {
   "cell_type": "code",
   "execution_count": 21,
   "metadata": {},
   "outputs": [
    {
     "data": {
      "text/plain": [
       "CarbonCost(item_name='steak', carbon_cost=14.8, red_flags=['animal welfare concerns', 'deforestation', 'high water usage'], score=2)"
      ]
     },
     "execution_count": 21,
     "metadata": {},
     "output_type": "execute_result"
    }
   ],
   "source": [
    "cost = calculate_carbon_cost(\"steak\")\n",
    "cost['parsed']"
   ]
  },
  {
   "cell_type": "code",
   "execution_count": 18,
   "metadata": {},
   "outputs": [
    {
     "data": {
      "text/plain": [
       "CarbonCost(item_name='milk', carbon_cost=4.8, red_flags=['animal welfare concerns'], score=4)"
      ]
     },
     "execution_count": 18,
     "metadata": {},
     "output_type": "execute_result"
    }
   ],
   "source": [
    "cost = calculate_carbon_cost(\"milk\")\n",
    "cost['parsed']"
   ]
  },
  {
   "cell_type": "code",
   "execution_count": 19,
   "metadata": {},
   "outputs": [
    {
     "data": {
      "text/plain": [
       "CarbonCost(item_name='potatoes', carbon_cost=0.3, red_flags=[], score=9)"
      ]
     },
     "execution_count": 19,
     "metadata": {},
     "output_type": "execute_result"
    }
   ],
   "source": [
    "cost = calculate_carbon_cost(\"potatoes\")\n",
    "cost['parsed']"
   ]
  },
  {
   "cell_type": "code",
   "execution_count": null,
   "metadata": {},
   "outputs": [],
   "source": []
  }
 ],
 "metadata": {
  "kernelspec": {
   "display_name": "venv",
   "language": "python",
   "name": "python3"
  },
  "language_info": {
   "codemirror_mode": {
    "name": "ipython",
    "version": 3
   },
   "file_extension": ".py",
   "mimetype": "text/x-python",
   "name": "python",
   "nbconvert_exporter": "python",
   "pygments_lexer": "ipython3",
   "version": "3.12.0"
  }
 },
 "nbformat": 4,
 "nbformat_minor": 2
}
