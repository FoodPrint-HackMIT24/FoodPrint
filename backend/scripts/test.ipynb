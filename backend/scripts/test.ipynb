{
 "cells": [
  {
   "cell_type": "code",
   "execution_count": 20,
   "metadata": {},
   "outputs": [
    {
     "name": "stdout",
     "output_type": "stream",
     "text": [
      "ChatCompletion(id='chatcmpl-A7YSwDWP21zlgXNRBCQfRKDUdO5UZ', choices=[Choice(finish_reason='stop', index=0, logprobs=None, message=ChatCompletionMessage(content='```json\\n{\\n  \"choices\": [\\n    {\\n      \"name\": \"Fatto Tiramisu\",\\n      \"ingredients\": [\\n        \"Coffee liqueur-soaked sponge\",\\n        \"mascarpone\",\\n        \"chocolate\"\\n      ]\\n    },\\n    {\\n      \"name\": \"Scugnizzielli Nutella & Gelato\",\\n      \"ingredients\": [\\n        \"Fried mini pizza doughnuts\",\\n        \"Nutella\",\\n        \"vanilla gelato\"\\n      ]\\n    },\\n    {\\n      \"name\": \"Affogato\",\\n      \"ingredients\": [\\n        \"Vanilla gelato\",\\n        \"espresso\"\\n      ]\\n    },\\n    {\\n      \"name\": \"Affogato Limoncello\",\\n      \"ingredients\": [\\n        \"Lemon sorbet\",\\n        \"limoncello\"\\n      ]\\n    },\\n    {\\n      \"name\": \"Lemon Meringue\",\\n      \"ingredients\": [\\n        \"Vanilla biscuit\",\\n        \"vanilla gelato\",\\n        \"lemon curd\",\\n        \"meringue\"\\n      ]\\n    },\\n    {\\n      \"name\": \"Chocolate Salted Caramel\",\\n      \"ingredients\": [\\n        \"Chocolate dipped biscuit\",\\n        \"salted caramel gelato\"\\n      ]\\n    },\\n    {\\n      \"name\": \"Chocolate Orange\",\\n      \"ingredients\": [\\n        \"Chocolate biscuit\",\\n        \"chocolate orange gelato\"\\n      ]\\n    },\\n    {\\n      \"name\": \"Limoncello\",\\n      \"ingredients\": [\\n        \"Limoncello\"\\n      ]\\n    },\\n    {\\n      \"name\": \"Crema di Pistachio\",\\n      \"ingredients\": [\\n        \"Crema di Pistachio\"\\n      ]\\n    },\\n    {\\n      \"name\": \"Amaro del Capo\",\\n      \"ingredients\": [\\n        \"Amaro del Capo\"\\n      ]\\n    },\\n    {\\n      \"name\": \"Meloncello\",\\n      \"ingredients\": [\\n        \"Meloncello\"\\n      ]\\n    },\\n    {\\n      \"name\": \"Espresso\",\\n      \"ingredients\": [\\n        \"Espresso\"\\n      ]\\n    },\\n    {\\n      \"name\": \"Macchiato\",\\n      \"ingredients\": [\\n        \"Macchiato\"\\n      ]\\n    }\\n  ]\\n}\\n```', refusal=None, role='assistant', function_call=None, tool_calls=None))], created=1726364146, model='gpt-4o-2024-05-13', object='chat.completion', service_tier=None, system_fingerprint='fp_992d1ea92d', usage=CompletionUsage(completion_tokens=453, prompt_tokens=1023, total_tokens=1476, completion_tokens_details=CompletionTokensDetails(reasoning_tokens=0)))\n"
     ]
    }
   ],
   "source": [
    "import base64\n",
    "import os\n",
    "\n",
    "from dotenv import load_dotenv\n",
    "\n",
    "from pydantic import BaseModel\n",
    "from openai import OpenAI\n",
    "\n",
    "load_dotenv()\n",
    "\n",
    "openai_key = os.getenv('OPENAI_API_KEY')\n",
    "openai_client = OpenAI()\n",
    "\n",
    "class RequestBody(BaseModel):\n",
    "    image: str\n",
    "\n",
    "class MenuItemScored(BaseModel):\n",
    "    name: str\n",
    "    score: int\n",
    "    red_flags: list[str]\n",
    "\n",
    "class ResponseBody(BaseModel):\n",
    "    item_list: list[MenuItemScored]\n",
    "\n",
    "class MenuItem(BaseModel):\n",
    "    name: str\n",
    "    ingredients: list[str]\n",
    "\n",
    "class Menu(BaseModel):\n",
    "    choices: list[MenuItem]\n"
   ]
  },
  {
   "cell_type": "code",
   "execution_count": null,
   "metadata": {},
   "outputs": [],
   "source": [
    "def calculate_score(request: RequestBody):    \n",
    "    completion = openai_client.chat.completions.create(\n",
    "        model=\"gpt-4o\",\n",
    "        max_tokens=4096,\n",
    "        temperature=0.0,\n",
    "        messages=[\n",
    "            {\n",
    "                \"role\": \"system\",\n",
    "                \"content\": f\"\"\"\n",
    "                You are a culinary expert designed to extract food items and their ingredients from a menu.\n",
    "                Please identify every menu item the image and provide a list of every ingredient listed on the menu for that item.\n",
    "                If the ingredients are not listed, make an educated guess about what the ingredients are. Simplify the ingredients to raw materials.\n",
    "                You must return a correctly formatted JSON object with the menu item name and the list of ingredients in the image and follows the schema below:\n",
    "\n",
    "                JSON Schema:\n",
    "                {Menu.model_json_schema()}\"\"\",\n",
    "            },\n",
    "            {\n",
    "                \"role\": \"user\",\n",
    "                \"content\": [\n",
    "                    {\n",
    "                        \"type\": \"text\",\n",
    "                        \"text\": \"\"\"Extract the products from the image,\n",
    "                        and describe them in a query in JSON format\"\"\",\n",
    "                    },\n",
    "                    {\n",
    "                        \"type\": \"image_url\", \"image_url\": {\n",
    "                        \"url\": f\"data:image/jpeg;base64,{request.image}\"}},\n",
    "\n",
    "                ],\n",
    "            },\n",
    "            {\n",
    "                \"role\": \"assistant\",\n",
    "                \"content\": \"```json\",\n",
    "            },\n",
    "        ],\n",
    "    )\n",
    "    print(completion)\n",
    "\n",
    "    return completion\n"
   ]
  },
  {
   "cell_type": "code",
   "execution_count": null,
   "metadata": {},
   "outputs": [],
   "source": [
    "with open (\"test_image.jpg\", \"rb\") as image:\n",
    "    image_data = base64.b64encode(image.read()).decode('utf-8')\n",
    "    completion_message = calculate_score(RequestBody(image=image_data))"
   ]
  },
  {
   "cell_type": "code",
   "execution_count": 21,
   "metadata": {},
   "outputs": [
    {
     "data": {
      "text/plain": [
       "ChatCompletion(id='chatcmpl-A7YSwDWP21zlgXNRBCQfRKDUdO5UZ', choices=[Choice(finish_reason='stop', index=0, logprobs=None, message=ChatCompletionMessage(content='```json\\n{\\n  \"choices\": [\\n    {\\n      \"name\": \"Fatto Tiramisu\",\\n      \"ingredients\": [\\n        \"Coffee liqueur-soaked sponge\",\\n        \"mascarpone\",\\n        \"chocolate\"\\n      ]\\n    },\\n    {\\n      \"name\": \"Scugnizzielli Nutella & Gelato\",\\n      \"ingredients\": [\\n        \"Fried mini pizza doughnuts\",\\n        \"Nutella\",\\n        \"vanilla gelato\"\\n      ]\\n    },\\n    {\\n      \"name\": \"Affogato\",\\n      \"ingredients\": [\\n        \"Vanilla gelato\",\\n        \"espresso\"\\n      ]\\n    },\\n    {\\n      \"name\": \"Affogato Limoncello\",\\n      \"ingredients\": [\\n        \"Lemon sorbet\",\\n        \"limoncello\"\\n      ]\\n    },\\n    {\\n      \"name\": \"Lemon Meringue\",\\n      \"ingredients\": [\\n        \"Vanilla biscuit\",\\n        \"vanilla gelato\",\\n        \"lemon curd\",\\n        \"meringue\"\\n      ]\\n    },\\n    {\\n      \"name\": \"Chocolate Salted Caramel\",\\n      \"ingredients\": [\\n        \"Chocolate dipped biscuit\",\\n        \"salted caramel gelato\"\\n      ]\\n    },\\n    {\\n      \"name\": \"Chocolate Orange\",\\n      \"ingredients\": [\\n        \"Chocolate biscuit\",\\n        \"chocolate orange gelato\"\\n      ]\\n    },\\n    {\\n      \"name\": \"Limoncello\",\\n      \"ingredients\": [\\n        \"Limoncello\"\\n      ]\\n    },\\n    {\\n      \"name\": \"Crema di Pistachio\",\\n      \"ingredients\": [\\n        \"Crema di Pistachio\"\\n      ]\\n    },\\n    {\\n      \"name\": \"Amaro del Capo\",\\n      \"ingredients\": [\\n        \"Amaro del Capo\"\\n      ]\\n    },\\n    {\\n      \"name\": \"Meloncello\",\\n      \"ingredients\": [\\n        \"Meloncello\"\\n      ]\\n    },\\n    {\\n      \"name\": \"Espresso\",\\n      \"ingredients\": [\\n        \"Espresso\"\\n      ]\\n    },\\n    {\\n      \"name\": \"Macchiato\",\\n      \"ingredients\": [\\n        \"Macchiato\"\\n      ]\\n    }\\n  ]\\n}\\n```', refusal=None, role='assistant', function_call=None, tool_calls=None))], created=1726364146, model='gpt-4o-2024-05-13', object='chat.completion', service_tier=None, system_fingerprint='fp_992d1ea92d', usage=CompletionUsage(completion_tokens=453, prompt_tokens=1023, total_tokens=1476, completion_tokens_details=CompletionTokensDetails(reasoning_tokens=0)))"
      ]
     },
     "execution_count": 21,
     "metadata": {},
     "output_type": "execute_result"
    }
   ],
   "source": [
    "completion_message"
   ]
  },
  {
   "cell_type": "code",
   "execution_count": 38,
   "metadata": {},
   "outputs": [
    {
     "data": {
      "text/plain": [
       "Menu(choices=[MenuItem(name='Fatto Tiramisu', ingredients=['Coffee liqueur-soaked sponge', 'mascarpone', 'chocolate']), MenuItem(name='Scugnizzielli Nutella & Gelato', ingredients=['Fried mini pizza doughnuts', 'Nutella', 'vanilla gelato']), MenuItem(name='Affogato', ingredients=['Vanilla gelato', 'espresso']), MenuItem(name='Affogato Limoncello', ingredients=['Lemon sorbet', 'limoncello']), MenuItem(name='Lemon Meringue', ingredients=['Vanilla biscuit', 'vanilla gelato', 'lemon curd', 'meringue']), MenuItem(name='Chocolate Salted Caramel', ingredients=['Chocolate dipped biscuit', 'salted caramel gelato']), MenuItem(name='Chocolate Orange', ingredients=['Chocolate biscuit', 'chocolate orange gelato']), MenuItem(name='Limoncello', ingredients=['Limoncello']), MenuItem(name='Crema di Pistachio', ingredients=['Crema di Pistachio']), MenuItem(name='Amaro del Capo', ingredients=['Amaro del Capo']), MenuItem(name='Meloncello', ingredients=['Meloncello']), MenuItem(name='Espresso', ingredients=['Espresso']), MenuItem(name='Macchiato', ingredients=['Macchiato'])])"
      ]
     },
     "execution_count": 38,
     "metadata": {},
     "output_type": "execute_result"
    }
   ],
   "source": [
    "import json\n",
    "\n",
    "message_content = completion_message.choices[0].message.content\n",
    "cleaned_content = message_content.replace('```json', '').replace('```', '').strip()\n",
    "menu_dict = json.loads(cleaned_content)\n",
    "menu = Menu(**menu_dict)\n",
    "menu\n"
   ]
  },
  {
   "cell_type": "code",
   "execution_count": 90,
   "metadata": {},
   "outputs": [],
   "source": [
    "from langchain_core.messages import HumanMessage, SystemMessage\n",
    "from langchain_core.prompts import ChatPromptTemplate, MessagesPlaceholder\n",
    "from langchain_community.chat_message_histories import ChatMessageHistory\n",
    "from langchain_openai import ChatOpenAI\n",
    "\n",
    "class CarbonCost(BaseModel):\n",
    "    carbon_cost: int\n",
    "    explanation: str\n",
    "    red_flags: list[str]\n",
    "    score: int\n",
    "\n",
    "open_langchain = ChatOpenAI(model=\"gpt-4o\", temperature=0)\n",
    "\n",
    "def calculate_carbon_cost(ingredient: str):\n",
    "    system_prompt = f\"\"\"\n",
    "    You are a environmental expert designed to calculate the carbon cost of food items and explain the carbon cost of the food item in pounds.\n",
    "    Calculate the carbon cost of the food item in the message below and explain why the carbon cost is that value.\n",
    "    Also provide a list of red flags that indicate that the production of the food item involves unsustainable practices such as human rights violations in third world countries, animal welfare concerns, etc.\n",
    "    Finally, based on this information, provide a sustainability score for the food item on a scale of 1 to 10\n",
    "    \"\"\"\n",
    "\n",
    "    chat_history = ChatMessageHistory()\n",
    "    chat_history.add_message(SystemMessage(content=system_prompt))\n",
    "    chat_history.add_message(HumanMessage(content=ingredient))\n",
    "\n",
    "    prompt_template = ChatPromptTemplate.from_messages(\n",
    "        [MessagesPlaceholder(\"messages\"), SystemMessage(content=system_prompt)])\n",
    "    runnable = prompt_template | open_langchain.with_structured_output(\n",
    "        schema=CarbonCost, include_raw=True)\n",
    "    \n",
    "    carbon_cost = runnable.invoke({\"messages\": chat_history.messages})\n",
    "\n",
    "    return carbon_cost\n"
   ]
  },
  {
   "cell_type": "code",
   "execution_count": 91,
   "metadata": {},
   "outputs": [],
   "source": [
    "cost = calculate_carbon_cost(menu.choices[0].name)\n"
   ]
  },
  {
   "cell_type": "code",
   "execution_count": 95,
   "metadata": {},
   "outputs": [
    {
     "data": {
      "text/plain": [
       "CarbonCost(carbon_cost=5, explanation='Tiramisu is a dessert that typically includes ingredients such as mascarpone cheese, eggs, sugar, coffee, cocoa, and ladyfingers. The carbon cost is influenced by the dairy products (mascarpone cheese and eggs), which have a higher carbon footprint due to methane emissions from cows and the energy-intensive processes involved in dairy farming. Additionally, coffee and cocoa production often involve long transportation routes and can be associated with deforestation and other environmental impacts.', red_flags=['Dairy production involves high methane emissions and energy use.', 'Coffee and cocoa production can be linked to deforestation and loss of biodiversity.', 'Potential human rights violations in coffee and cocoa farming, including poor working conditions and low wages.', 'Animal welfare concerns related to dairy farming.'], score=4)"
      ]
     },
     "execution_count": 95,
     "metadata": {},
     "output_type": "execute_result"
    }
   ],
   "source": [
    "cost['parsed']"
   ]
  }
 ],
 "metadata": {
  "kernelspec": {
   "display_name": "venv",
   "language": "python",
   "name": "python3"
  },
  "language_info": {
   "codemirror_mode": {
    "name": "ipython",
    "version": 3
   },
   "file_extension": ".py",
   "mimetype": "text/x-python",
   "name": "python",
   "nbconvert_exporter": "python",
   "pygments_lexer": "ipython3",
   "version": "3.12.0"
  }
 },
 "nbformat": 4,
 "nbformat_minor": 2
}
